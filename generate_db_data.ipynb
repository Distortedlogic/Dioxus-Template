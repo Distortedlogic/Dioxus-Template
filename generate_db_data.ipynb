{
 "cells": [
  {
   "cell_type": "code",
   "execution_count": null,
   "metadata": {},
   "outputs": [],
   "source": [
    "import uuid\n",
    "from datetime import timezone\n",
    "\n",
    "import numpy as np\n",
    "import polars as pl\n",
    "from faker import Faker\n",
    "\n",
    "# Initialize Faker for generating realistic data\n",
    "fake = Faker()\n",
    "\n",
    "# Generate sample data\n",
    "n_records = 100\n",
    "\n",
    "# Create data with proper types from the start\n",
    "data = {\n",
    "    \"id\": [str(uuid.uuid4()) for _ in range(n_records)],\n",
    "    \"email\": [fake.email() for _ in range(n_records)],\n",
    "    \"username\": [fake.user_name() for _ in range(n_records)],\n",
    "    \"first_name\": [fake.first_name() for _ in range(n_records)],\n",
    "    \"last_name\": [fake.last_name() for _ in range(n_records)],\n",
    "    \"permission\": np.random.choice([\"Admin\", \"Manager\", \"Collaborator\", \"Viewer\"],\n",
    "                                 size=n_records,\n",
    "                                 p=[0.1, 0.2, 0.3, 0.4]),\n",
    "    \"system_admin\": np.random.choice([True, False],\n",
    "                                   size=n_records,\n",
    "                                   p=[0.1, 0.9]),\n",
    "    \"created_at\": [fake.date_time_this_year(tzinfo=timezone.utc) for _ in range(n_records)],\n",
    "    \"updated_at\": [fake.date_time_this_year(tzinfo=timezone.utc) for _ in range(n_records)]\n",
    "}\n",
    "\n",
    "# Create DataFrame with explicit schema\n",
    "df = pl.DataFrame(\n",
    "    data,\n",
    "    schema={\n",
    "        \"id\": pl.Utf8,\n",
    "        \"email\": pl.Utf8,\n",
    "        \"username\": pl.Utf8,\n",
    "        \"first_name\": pl.Utf8,\n",
    "        \"last_name\": pl.Utf8,\n",
    "        \"permission\": pl.Categorical,\n",
    "        \"system_admin\": pl.Boolean,\n",
    "        \"created_at\": pl.Datetime(time_zone=\"UTC\"),\n",
    "        \"updated_at\": pl.Datetime(time_zone=\"UTC\")\n",
    "    }\n",
    ")\n",
    "\n",
    "# Write to parquet with optimized settings\n",
    "df.write_parquet(\n",
    "    \"users.parquet\",\n",
    "    statistics=True\n",
    ")"
   ]
  }
 ],
 "metadata": {
  "kernelspec": {
   "display_name": ".venv",
   "language": "python",
   "name": "python3"
  },
  "language_info": {
   "name": "python",
   "version": "3.12.5"
  }
 },
 "nbformat": 4,
 "nbformat_minor": 2
}
